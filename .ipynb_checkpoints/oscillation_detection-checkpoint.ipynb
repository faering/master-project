{
 "cells": [
  {
   "cell_type": "code",
   "execution_count": 2,
   "metadata": {
    "vscode": {
     "languageId": "python"
    }
   },
   "outputs": [
    {
     "name": "stdout",
     "output_type": "stream",
     "text": [
      "Successfully imported fooof from python!\n"
     ]
    }
   ],
   "source": [
    "% add fieldtrip toolbox to path\n",
    "addpath('C:\\Users\\matti\\OneDrive\\Documents\\MATLAB\\fieldtrip-20231015');\n",
    "\n",
    "% set path to fBOSC directory\n",
    "fBOSC_dir = '\\Users\\matti\\OneDrive\\Education\\SDC\\Master Thesis\\master-project\\fBOSC';\n",
    "cd(fBOSC_dir);\n",
    "\n",
    "start_fBOSC"
   ]
  },
  {
   "cell_type": "markdown",
   "metadata": {},
   "source": [
    "### Preprocess data"
   ]
  },
  {
   "cell_type": "code",
   "execution_count": 133,
   "metadata": {},
   "outputs": [
    {
     "name": "stderr",
     "output_type": "stream",
     "text": [
      "Error using ft_checkdata\n",
      "This function requires 'raw+comp' or 'raw' data as input, see ft_datatype_raw.\n",
      "\n",
      "Error in ft_preprocessing (line 274)\n",
      "  data = ft_checkdata(data, 'datatype', {'raw+comp', 'raw'}, 'hassampleinfo', 'yes');"
     ]
    }
   ],
   "source": [
    "% add fieldtrip toolbox to path\n",
    "addpath('C:\\Users\\matti\\OneDrive\\Documents\\MATLAB\\fieldtrip-20231015');\n",
    "\n",
    "% path to data folder\n",
    "data_dir = \"C:\\Users\\matti\\OneDrive\\Education\\SDC\\Master Thesis\\master-project\\data\\\";\n",
    "cd(data_dir);\n",
    "\n",
    "cfg = [];\n",
    "data_ieeg = ft_preprocessing(cfg);"
   ]
  },
  {
   "cell_type": "markdown",
   "metadata": {},
   "source": [
    "### Plot Data"
   ]
  },
  {
   "cell_type": "code",
   "execution_count": 15,
   "metadata": {},
   "outputs": [
    {
     "data": {
      "text/html": [
       "<html><body><pre>data = 1363811x5 table\n",
       "     B 02        B 03        C 02       B' 02      B' 03  \n",
       "    _______    ________    ________    _______    ________\n",
       "\n",
       "     -6.335      5.5154     -3.2355    -10.747      2.7209\n",
       "    -6.2242      3.2406     -1.2707    -12.012      3.5967\n",
       "    -7.1542       1.355    -0.18852    -11.048       4.099\n",
       "    -7.5911    -0.20791    -0.74644    -8.6339        7.21\n",
       "    -8.6077     -3.2714     -1.4651    -5.9299       9.047\n",
       "     -8.909     -5.7524     -2.0495    -2.8325      8.2009\n",
       "    -8.9479     -6.7235     -3.1648     1.3445      6.6915\n",
       "    -9.5772     -7.5512     -3.6361      4.059      5.2825\n",
       "    -9.4527     -8.1142     -3.8809     5.7273      2.9921\n",
       "     -9.047     -8.0616     -4.8924     7.9475     0.53188\n",
       "    -8.7795     -7.7826     -4.2747     7.2699    -0.14512\n",
       "    -8.8933     -6.7567     -1.5622     8.1118     0.91297\n",
       "    -9.3015     -10.669     0.49094     7.7189       1.394\n",
       "    -9.3134     -11.343      1.6515     5.6093      4.5153\n",
       "     -9.571      -11.02      1.3608     3.9008      6.5283\n",
       "    -9.2982     -10.091    0.098248     4.1323      7.6487\n",
       "</pre></body></html>"
      ],
      "text/plain": [
       "data = 1363811x5 table\n",
       "     B 02        B 03        C 02       B' 02      B' 03  \n",
       "    _______    ________    ________    _______    ________\n",
       "\n",
       "     -6.335      5.5154     -3.2355    -10.747      2.7209\n",
       "    -6.2242      3.2406     -1.2707    -12.012      3.5967\n",
       "    -7.1542       1.355    -0.18852    -11.048       4.099\n",
       "    -7.5911    -0.20791    -0.74644    -8.6339        7.21\n",
       "    -8.6077     -3.2714     -1.4651    -5.9299       9.047\n",
       "     -8.909     -5.7524     -2.0495    -2.8325      8.2009\n",
       "    -8.9479     -6.7235     -3.1648     1.3445      6.6915\n",
       "    -9.5772     -7.5512     -3.6361      4.059      5.2825\n",
       "    -9.4527     -8.1142     -3.8809     5.7273      2.9921\n",
       "     -9.047     -8.0616     -4.8924     7.9475     0.53188\n",
       "    -8.7795     -7.7826     -4.2747     7.2699    -0.14512\n",
       "    -8.8933     -6.7567     -1.5622     8.1118     0.91297\n",
       "    -9.3015     -10.669     0.49094     7.7189       1.394\n",
       "    -9.3134     -11.343      1.6515     5.6093      4.5153\n",
       "     -9.571      -11.02      1.3608     3.9008      6.5283\n",
       "    -9.2982     -10.091    0.098248     4.1323      7.6487\n"
      ]
     },
     "execution_count": 15,
     "metadata": {},
     "output_type": "execute_result"
    }
   ],
   "source": [
    "% path to data folder\n",
    "data_dir = \"C:\\Users\\matti\\OneDrive\\Education\\SDC\\Master Thesis\\master-project\\data\\\";\n",
    "filename = \"subject_07_exp_phase_2_preprocessed\";\n",
    "\n",
    "% load data\n",
    "data = readtable(data_dir + filename, VariableNamingRule=\"preserve\");\n",
    "data"
   ]
  },
  {
   "cell_type": "code",
   "execution_count": 104,
   "metadata": {},
   "outputs": [
    {
     "name": "stderr",
     "output_type": "stream",
     "text": [
      "Error using linspace\n",
      "Inputs must be scalars."
     ]
    }
   ],
   "source": []
  },
  {
   "cell_type": "code",
   "execution_count": 110,
   "metadata": {},
   "outputs": [
    {
     "data": {
      "text/html": [
       "<html><body><pre>Ts = \n",
       "     2.663693359375000e+03\n",
       "</pre></body></html>"
      ],
      "text/plain": [
       "Ts = \n",
       "     2.663693359375000e+03\n"
      ]
     },
     "execution_count": 110,
     "metadata": {},
     "output_type": "execute_result"
    }
   ],
   "source": [
    " Ts = Ts(1);\n",
    "Ts"
   ]
  },
  {
   "cell_type": "code",
   "execution_count": 112,
   "metadata": {},
   "outputs": [
    {
     "data": {
      "text/html": [
       "<html><body><pre>Ts = 1x2 double\n",
       "1.0e+03 *\n",
       "\n",
       "   2.663693359375000   0.000001953125000\n",
       "</pre></body></html>"
      ],
      "text/plain": [
       "Ts = 1x2 double\n",
       "1.0e+03 *\n",
       "\n",
       "   2.663693359375000   0.000001953125000\n"
      ]
     },
     "execution_count": 112,
     "metadata": {},
     "output_type": "execute_result"
    }
   ],
   "source": [
    "Ts"
   ]
  },
  {
   "cell_type": "code",
   "execution_count": 119,
   "metadata": {},
   "outputs": [
    {
     "data": {
      "image/png": "[encoded data removed]"
     },
     "execution_count": 119,
     "metadata": {},
     "output_type": "execute_result"
    }
   ],
   "source": [
    "signal = data{:,1};\n",
    "[N, ] = size(signal); N = N(1);\n",
    "fs = 512;\n",
    "Ts = N/fs; Ts = Ts(1);\n",
    "t = linspace(0, Ts, N);\n",
    "\n",
    "figure;\n",
    "plot(t, signal);\n",
    "title('iEEG Signal');\n",
    "xlabel('Time');\n",
    "ylabel('Amplitude');\n",
    "axis([0 Ts -300 100]);"
   ]
  },
  {
   "cell_type": "code",
   "execution_count": 122,
   "metadata": {},
   "outputs": [
    {
     "name": "stderr",
     "output_type": "stream",
     "text": [
      "Error using load\n",
      "Unable to find file or directory 'C:\\Users\\matti\\OneDrive\\Education\\SDC\\Master Thesis\\master-project\\fBOSC\\validation\\synaptic.mat'."
     ]
    }
   ],
   "source": [
    "%% Make simulated data with 10hz oscillations embedded within a \n",
    "%  non-linear 1/f aperiodic signal\n",
    "\n",
    "% Load the previously computed non-linear 1/f aperiodic signal\n",
    "load(fullfile(fBOSC_dir,'validation','synaptic.mat'));\n",
    "\n",
    "% Settings\n",
    "ntrials                     = 10;   % Number of trials \n",
    "Fs                          = 500;  % Sampling Rate\n",
    "SNR                         = 40;   % SNR of oscillation\n",
    "len_of_trial                = 20;   % Length of each trial in s\n",
    "\n",
    "% Trim aperiodic data down to size of ntrials*len_of_trial\n",
    "synaptic                   = synaptic(1:ntrials,[1:(len_of_trial*Fs)]);\n",
    "\n",
    "% HP-Filter @ 1Hz, like in typical EEG/MEG studies\n",
    "for n = 1:ntrials\n",
    "    synaptic(n,:) = ft_preproc_highpassfilter(synaptic(n,:), Fs,...\n",
    "        1, 3);\n",
    "end\n",
    "\n",
    "% Simulate an alpha oscillation in the middle of the trial for 6s\n",
    "cfg                         = [];\n",
    "cfg.freq                    = 10; % Simulated a 10Hz oscillation\n",
    "cfg.amplitude               = SNR; % SNR of the simulated oscillation\n",
    "cfg.cycles                  = 6/(1/10); % How many cycles: For 6s\n",
    "cfg.time                    = 20; % 20s of simulated data\n",
    "cfg.trial                   = ntrials; % How many 'trials'?\n",
    "[aperiodic_out_alpha,...\n",
    "    osc_alpha,... \n",
    "    data_alpha,~]...\n",
    "                            = sim_fBOSC(cfg,Fs,synaptic);"
   ]
  },
  {
   "cell_type": "code",
   "execution_count": 120,
   "metadata": {},
   "outputs": [],
   "source": [
    "%% Set-up fBOSC parameters\n",
    "\n",
    "% general setup\n",
    "cfg.fBOSC.F                 = 2.^[1:.125:5.4];\n",
    "cfg.fBOSC.wavenumber        = 6;           % wavelet family parameter (time-frequency tradeoff)\n",
    "cfg.fBOSC.fsample           = fs;         % current sampling frequency of EEG data\n",
    "\n",
    "% padding\n",
    "cfg.fBOSC.pad.tfr_s         = 0.1;      % padding following wavelet transform to avoid edge artifacts in seconds (bi-lateral)\n",
    "cfg.fBOSC.pad.detection_s   = .1;       % padding following rhythm detection in seconds (bi-lateral); 'shoulder' for BOSC eBOSC.detected matrix to account for duration threshold\n",
    "cfg.fBOSC.pad.background_s  = 0.1;      % padding of segments for BG (only avoiding edge artifacts)\n",
    "\n",
    "% fooof parameters - fit with fixed line or allow a knee\n",
    "cfg.fBOSC.fooof.aperiodic_mode    = 'knee';\n",
    "\n",
    "% threshold settings\n",
    "cfg.fBOSC.threshold.duration\t= repmat(3, 1, numel(cfg.fBOSC.F)); % vector of duration thresholds at each frequency (previously: ncyc)\n",
    "cfg.fBOSC.threshold.percentile  = .99;                              % percentile of background fit for power threshold\n",
    "\n",
    "% episode post-processing\n",
    "cfg.fBOSC.postproc.use      = 'no';        % Post-processing turned off for now\n",
    "\n",
    "% general processing settings\n",
    "cfg.fBOSC.channel           = [1]; % select posterior channels (default: all)\n",
    "cfg.fBOSC.trial             = []; % select trials (default: all)\n",
    "cfg.fBOSC.trial_background  = []; % select trials for background (default: all)"
   ]
  },
  {
   "cell_type": "code",
   "execution_count": 135,
   "metadata": {},
   "outputs": [
    {
     "data": {
      "text/html": [
       "<html><body><pre>ans = 1363811x5 double\n",
       "  -6.335006237030029   5.515365839004517  -3.235475540161133 -10.746534109115601   2.720948576927185\n",
       "  -6.224204659461975   3.240566983819008  -1.270658493041992 -12.012154817581177   3.596689581871033\n",
       "  -7.154152095317841   1.355019181966782  -0.188524246215820 -11.047840833663940   4.099027633666992\n",
       "  -7.591131448745728  -0.207910418510437  -0.746438980102539  -8.633867740631104   7.209954500198364\n",
       "  -8.607671737670898  -3.271426200866699  -1.465087890625000  -5.929875373840332   9.046963691711426\n",
       "  -8.909025669097900  -5.752391576766968  -2.049489974975586  -2.832487106323242   8.200879096984863\n",
       "  -8.947920322418213  -6.723503828048706  -3.164785385131836   1.344465255737305   6.691524505615234\n",
       "  -9.577183246612549  -7.551153898239136  -3.636051177978516   4.059043569490314   5.282458939589560\n",
       "  -9.452742338180542  -8.114151597023010  -3.880907058715820   5.727260828018188   2.992056727409363\n",
       "  -9.047024488449097  -8.061581254005432  -4.892354965209961   7.947475194931030   0.531877160072327\n",
       "...</pre></body></html>"
      ],
      "text/plain": [
       "ans = 1363811x5 double\n",
       "  -6.335006237030029   5.515365839004517  -3.235475540161133 -10.746534109115601   2.720948576927185\n",
       "  -6.224204659461975   3.240566983819008  -1.270658493041992 -12.012154817581177   3.596689581871033\n",
       "  -7.154152095317841   1.355019181966782  -0.188524246215820 -11.047840833663940   4.099027633666992\n",
       "  -7.591131448745728  -0.207910418510437  -0.746438980102539  -8.633867740631104   7.209954500198364\n",
       "  -8.607671737670898  -3.271426200866699  -1.465087890625000  -5.929875373840332   9.046963691711426\n",
       "  -8.909025669097900  -5.752391576766968  -2.049489974975586  -2.832487106323242   8.200879096984863\n",
       "  -8.947920322418213  -6.723503828048706  -3.164785385131836   1.344465255737305   6.691524505615234\n",
       "  -9.577183246612549  -7.551153898239136  -3.636051177978516   4.059043569490314   5.282458939589560\n",
       "  -9.452742338180542  -8.114151597023010  -3.880907058715820   5.727260828018188   2.992056727409363\n",
       "  -9.047024488449097  -8.061581254005432  -4.892354965209961   7.947475194931030   0.531877160072327\n",
       "..."
      ]
     },
     "execution_count": 135,
     "metadata": {},
     "output_type": "execute_result"
    }
   ],
   "source": []
  },
  {
   "cell_type": "code",
   "execution_count": 137,
   "metadata": {},
   "outputs": [
    {
     "data": {
      "text/html": [
       "<html><body><pre>ans = 1x5 cell array\n",
       "    {'B 02'}    {'B 03'}    {'C 02'}    {'B' 02'}    {'B' 03'}\n",
       "</pre></body></html>"
      ],
      "text/plain": [
       "ans = 1x5 cell array\n",
       "    {'B 02'}    {'B 03'}    {'C 02'}    {'B' 02'}    {'B' 03'}\n"
      ]
     },
     "execution_count": 137,
     "metadata": {},
     "output_type": "execute_result"
    }
   ],
   "source": [
    "data.Properties.VariableNames"
   ]
  },
  {
   "cell_type": "code",
   "execution_count": 134,
   "metadata": {},
   "outputs": [
    {
     "data": {
      "text/html": [
       "<html><body><pre>data = 1363811x5 table\n",
       "          B 02                  B 03                  C 02                 B' 02                B' 03       \n",
       "    _________________    __________________    __________________    _________________    __________________\n",
       "\n",
       "    -6.33500623703003      5.51536583900452     -3.23547554016113    -10.7465341091156      2.72094857692719\n",
       "    -6.22420465946198      3.24056698381901     -1.27065849304199    -12.0121548175812      3.59668958187103\n",
       "    -7.15415209531784      1.35501918196678     -0.18852424621582    -11.0478408336639      4.09902763366699\n",
       "    -7.59113144874573    -0.207910418510437    -0.746438980102539     -8.6338677406311      7.20995450019836\n",
       "     -8.6076717376709      -3.2714262008667       -1.465087890625    -5.92987537384033      9.04696369171143\n",
       "     -8.9090256690979     -5.75239157676697     -2.04948997497559    -2.83248710632324      8.20087909698486\n",
       "    -8.94792032241821     -6.72350382804871     -3.16478538513184      1.3444652557373      6.69152450561523\n",
       "    -9.57718324661255     -7.55115389823914     -3.63605117797852     4.05904356949031      5.28245893958956\n",
       "    -9.45274233818054     -8.11415159702301     -3.88090705871582     5.72726082801819      2.99205672740936\n",
       "     -9.0470244884491     -8.06158125400543     -4.89235496520996     7.94747519493103     0.531877160072327\n",
       "    -8.77946782112122     -7.78255212306976     -4.27467727661133     7.26990923285484    -0.145120546221733\n",
       "    -8.89331912994385     -6.75670385360718     -1.56221199035645     8.11183953285217     0.912965655326843\n",
       "    -9.30145406723022     -10.6693842411041     0.490940093994141     7.71886140108109       1.3940277993679\n",
       "    -9.31339550018311     -11.3427147865295      1.65152359008789     5.60929560661316      4.51534521579742\n",
       "    -9.57102251052856     -11.0200431346893         1.36083984375     3.90080899000168      6.52826085686684\n",
       "    -9.29823970794678     -10.0905718803406    0.0982475280761719     4.13225615024567      7.64870899915695\n",
       "</pre></body></html>"
      ],
      "text/plain": [
       "data = 1363811x5 table\n",
       "          B 02                  B 03                  C 02                 B' 02                B' 03       \n",
       "    _________________    __________________    __________________    _________________    __________________\n",
       "\n",
       "    -6.33500623703003      5.51536583900452     -3.23547554016113    -10.7465341091156      2.72094857692719\n",
       "    -6.22420465946198      3.24056698381901     -1.27065849304199    -12.0121548175812      3.59668958187103\n",
       "    -7.15415209531784      1.35501918196678     -0.18852424621582    -11.0478408336639      4.09902763366699\n",
       "    -7.59113144874573    -0.207910418510437    -0.746438980102539     -8.6338677406311      7.20995450019836\n",
       "     -8.6076717376709      -3.2714262008667       -1.465087890625    -5.92987537384033      9.04696369171143\n",
       "     -8.9090256690979     -5.75239157676697     -2.04948997497559    -2.83248710632324      8.20087909698486\n",
       "    -8.94792032241821     -6.72350382804871     -3.16478538513184      1.3444652557373      6.69152450561523\n",
       "    -9.57718324661255     -7.55115389823914     -3.63605117797852     4.05904356949031      5.28245893958956\n",
       "    -9.45274233818054     -8.11415159702301     -3.88090705871582     5.72726082801819      2.99205672740936\n",
       "     -9.0470244884491     -8.06158125400543     -4.89235496520996     7.94747519493103     0.531877160072327\n",
       "    -8.77946782112122     -7.78255212306976     -4.27467727661133     7.26990923285484    -0.145120546221733\n",
       "    -8.89331912994385     -6.75670385360718     -1.56221199035645     8.11183953285217     0.912965655326843\n",
       "    -9.30145406723022     -10.6693842411041     0.490940093994141     7.71886140108109       1.3940277993679\n",
       "    -9.31339550018311     -11.3427147865295      1.65152359008789     5.60929560661316      4.51534521579742\n",
       "    -9.57102251052856     -11.0200431346893         1.36083984375     3.90080899000168      6.52826085686684\n",
       "    -9.29823970794678     -10.0905718803406    0.0982475280761719     4.13225615024567      7.64870899915695\n"
      ]
     },
     "execution_count": 134,
     "metadata": {},
     "output_type": "execute_result"
    }
   ],
   "source": [
    "data_struct.data = table2array(data)\n",
    "data_struct.channel = data.Properties.VariableNames\n"
   ]
  },
  {
   "cell_type": "code",
   "execution_count": 121,
   "metadata": {},
   "outputs": [
    {
     "name": "stderr",
     "output_type": "stream",
     "text": [
      "Error using .\n",
      "Unrecognized table variable name 'trial'.\n",
      "\n",
      "Error in fBOSC_wrapper (line 94)\n",
      "        cfg.fBOSC.trial = 1:numel(data.trial);"
     ]
    }
   ],
   "source": [
    "%% Run fBOSC\n",
    "clear fBOSC\n",
    "[fBOSC, cfg] = fBOSC_wrapper(cfg, data);"
   ]
  }
 ],
 "metadata": {
  "kernelspec": {
   "display_name": "MATLAB Kernel",
   "language": "matlab",
   "name": "jupyter_matlab_kernel"
  },
  "language_info": {
   "file_extension": ".m",
   "mimetype": "text/x-matlab",
   "name": "matlab"
  }
 },
 "nbformat": 4,
 "nbformat_minor": 4
}
