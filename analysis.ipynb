{
 "cells": [
  {
   "cell_type": "markdown",
   "metadata": {},
   "source": [
    "# 1. Initialise Notebook\n",
    "\n",
    "### 1.1 Load Libraries"
   ]
  },
  {
   "cell_type": "code",
   "execution_count": 2,
   "metadata": {},
   "outputs": [],
   "source": [
    "import numpy as np\n",
    "import pandas as pd\n",
    "from matplotlib import pyplot as plt\n",
    "\n",
    "# Oscillation detection libraries\n",
    "from fooof import FOOOF\n"
   ]
  },
  {
   "cell_type": "markdown",
   "metadata": {},
   "source": [
    "### 1.2 Load Preprocessed Data"
   ]
  },
  {
   "cell_type": "code",
   "execution_count": null,
   "metadata": {},
   "outputs": [],
   "source": []
  },
  {
   "cell_type": "markdown",
   "metadata": {},
   "source": [
    "# 2. Oscillation Detection\n",
    "\n",
    "### 2.1 Method: FOOOF\n",
    "\n",
    "link: <br>\n",
    "https://fooof-tools.github.io/fooof/\n",
    "\n",
    "citing: <br>\n",
    "Donoghue T, Haller M, Peterson EJ, Varma P, Sebastian P, Gao R, Noto T, Lara AH, Wallis JD, <br>\n",
    "Knight RT, Shestyuk A, & Voytek B (2020). Parameterizing neural power spectra into periodic <br>\n",
    "and aperiodic components. Nature Neuroscience, 23, 1655-1665. <br>\n",
    "DOI: 10.1038/s41593-020-00744-x"
   ]
  },
  {
   "cell_type": "code",
   "execution_count": 3,
   "metadata": {},
   "outputs": [
    {
     "ename": "NameError",
     "evalue": "name 'freqs' is not defined",
     "output_type": "error",
     "traceback": [
      "\u001b[0;31m---------------------------------------------------------------------------\u001b[0m",
      "\u001b[0;31mNameError\u001b[0m                                 Traceback (most recent call last)",
      "\u001b[1;32m/mnt/c/Users/matti/OneDrive/Education/SDC/Master Thesis/master-project/analysis.ipynb Cell 6\u001b[0m line \u001b[0;36m8\n\u001b[1;32m      <a href='vscode-notebook-cell://wsl%2Bdebian/mnt/c/Users/matti/OneDrive/Education/SDC/Master%20Thesis/master-project/analysis.ipynb#W4sdnNjb2RlLXJlbW90ZQ%3D%3D?line=4'>5</a>\u001b[0m freq_range \u001b[39m=\u001b[39m [\u001b[39m0.5\u001b[39m, \u001b[39m80\u001b[39m]\n\u001b[1;32m      <a href='vscode-notebook-cell://wsl%2Bdebian/mnt/c/Users/matti/OneDrive/Education/SDC/Master%20Thesis/master-project/analysis.ipynb#W4sdnNjb2RlLXJlbW90ZQ%3D%3D?line=6'>7</a>\u001b[0m \u001b[39m# apply model\u001b[39;00m\n\u001b[0;32m----> <a href='vscode-notebook-cell://wsl%2Bdebian/mnt/c/Users/matti/OneDrive/Education/SDC/Master%20Thesis/master-project/analysis.ipynb#W4sdnNjb2RlLXJlbW90ZQ%3D%3D?line=7'>8</a>\u001b[0m fm\u001b[39m.\u001b[39mreport(freqs, psds, freq_range)\n",
      "\u001b[0;31mNameError\u001b[0m: name 'freqs' is not defined"
     ]
    }
   ],
   "source": [
    "# initialize FOOOF object\n",
    "fm = FOOOF()\n",
    "\n",
    "# define frequency range for modelling the spectrum\n",
    "freq_range = [0.5, 80]\n",
    "\n",
    "# apply model\n",
    "fm.report(freqs, psds, freq_range)"
   ]
  }
 ],
 "metadata": {
  "kernelspec": {
   "display_name": "sdcmaster",
   "language": "python",
   "name": "python3"
  },
  "language_info": {
   "codemirror_mode": {
    "name": "ipython",
    "version": 3
   },
   "file_extension": ".py",
   "mimetype": "text/x-python",
   "name": "python",
   "nbconvert_exporter": "python",
   "pygments_lexer": "ipython3",
   "version": "3.11.3"
  },
  "orig_nbformat": 4
 },
 "nbformat": 4,
 "nbformat_minor": 2
}
