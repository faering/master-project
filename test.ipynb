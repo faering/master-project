{
 "cells": [
  {
   "cell_type": "code",
   "execution_count": 1,
   "metadata": {},
   "outputs": [],
   "source": [
    "import numpy as np\n",
    "import pandas as pd\n",
    "import matplotlib.pyplot as plt\n",
    "import scipy\n",
    "from scipy import signal\n",
    "import mat73"
   ]
  },
  {
   "cell_type": "code",
   "execution_count": 2,
   "metadata": {},
   "outputs": [],
   "source": [
    "import h5py\n",
    "\n",
    "filepath = './data/sub07.mat'\n",
    "arrays = {}\n",
    "f = h5py.File(filepath)\n",
    "for k, v in f.items():\n",
    "    arrays[k] = np.array(v)"
   ]
  },
  {
   "cell_type": "code",
   "execution_count": null,
   "metadata": {},
   "outputs": [],
   "source": [
    "data_mat = mat73.loadmat('./data/sub07.mat')"
   ]
  },
  {
   "cell_type": "code",
   "execution_count": null,
   "metadata": {},
   "outputs": [],
   "source": [
    "data_mat"
   ]
  },
  {
   "cell_type": "code",
   "execution_count": null,
   "metadata": {},
   "outputs": [],
   "source": [
    "print(type(data_mat))\n",
    "print(data_mat.keys())\n",
    "print(data_mat['data'].keys())"
   ]
  },
  {
   "cell_type": "code",
   "execution_count": null,
   "metadata": {},
   "outputs": [],
   "source": [
    "data_mat['data']['file2'].shape\n",
    "data_mat['data']['file2']"
   ]
  },
  {
   "cell_type": "code",
   "execution_count": null,
   "metadata": {},
   "outputs": [],
   "source": [
    "df = pd.DataFrame(data_mat['data']['file2'], columns=['x_coordinate', 'y_coordinate', 'Picture Number', 'Reaction Time (RT)'])\n",
    "df['Mark for Picture Shown'] = data_mat['data']['mark2'][0::2]\n",
    "df['Mark for Picture Placed'] = data_mat['data']['mark2'][1::2]\n",
    "df.head()"
   ]
  },
  {
   "cell_type": "code",
   "execution_count": null,
   "metadata": {},
   "outputs": [],
   "source": [
    "df['Timestamp (s) for Picture Shown'] = df['Mark for Picture Shown'].apply(lambda x: x/fs)\n",
    "df['Timestamp (s) for Picture Placed'] = df['Mark for Picture Placed'].apply(lambda x: x/fs)\n",
    "df.head()"
   ]
  },
  {
   "cell_type": "code",
   "execution_count": null,
   "metadata": {},
   "outputs": [],
   "source": [
    "idx = df['Picture Number'][df['Picture Number'] == 43].index.to_list()\n",
    "df.iloc[idx]"
   ]
  },
  {
   "cell_type": "code",
   "execution_count": null,
   "metadata": {},
   "outputs": [],
   "source": [
    "data_mat['data']['ieeg_data2'].shape"
   ]
  },
  {
   "cell_type": "code",
   "execution_count": null,
   "metadata": {},
   "outputs": [],
   "source": [
    "#******** Variable definitions ********\n",
    "ieeg_contact = 0                                    # iEEG contact\n",
    "roi = [9, 13]                                       # ROI in seconds\n",
    "\n",
    "#******** Static definitions ********\n",
    "fs = 512                                            # sample frequency\n",
    "TT = data_mat['data']['ieeg_data2'].shape[1] / fs   # total time in seconds\n",
    "t = np.arange(0, TT, 1/fs)                          # full time vector\n",
    "t_roi = np.arange(roi[0], roi[1], 1/fs)             # ROI time vector\n",
    "\n",
    "#******** Plotting ********\n",
    "fig, ax = plt.subplots(2, 1, figsize=(20, 15))\n",
    "ax[0].plot(t, data_mat['data']['ieeg_data2'][ieeg_contact, :])\n",
    "ax[0].set_title('Subject 07 - ieeg_data2', fontsize=20)\n",
    "ax[0].set_xlabel('Time (s)', fontsize=12)\n",
    "ax[0].set_ylabel('Amplitude (uV)', fontsize=12)\n",
    "ax[0].set_xlim([t[0], t[-1]])\n",
    "\n",
    "ax[1].plot(t_roi, data_mat['data']['ieeg_data2'][ieeg_contact, roi[0]*fs:roi[1]*fs])\n",
    "ax[1].set_title('Subject 07 - ieeg_data2', fontsize=20)\n",
    "ax[1].set_xlabel('Time (s)', fontsize=12)\n",
    "ax[1].set_ylabel('Amplitude (uV)', fontsize=12)\n",
    "ax[1].set_xlim([t_roi[0], t_roi[-1]])\n",
    "plt.tight_layout()"
   ]
  },
  {
   "cell_type": "markdown",
   "metadata": {},
   "source": [
    "## Filter Signal"
   ]
  },
  {
   "cell_type": "code",
   "execution_count": null,
   "metadata": {},
   "outputs": [],
   "source": [
    "fs = 512 # sample frequency\n",
    "t = np.linspace(0, 1, sr, False)  # 1 second\n",
    "sig = np.sin(2*np.pi*2*t) + np.sin(2*np.pi*10*t) + np.sin(2*np.pi*50*t)\n",
    "order = 4\n",
    "cutoff = [5, 15]\n",
    "filter_type = 'bandpass'\n",
    "show_impulse_response = True\n",
    "len_impulse = 1000\n",
    "\n",
    "impulse = signal.unit_impulse(len_impulse)\n",
    "t_impulse = np.arange(-10, len_impulse-10)\n",
    "\n",
    "# Create digital filter\n",
    "b, a = signal.butter(N=order, Wn=cutoff, btype=filter_type, fs=fs, analog=False)\n",
    "# Compute digital filter frequency response\n",
    "w, h = signal.freqz(b, a, fs=fs)\n",
    "out_signal = signal.lfilter(b, a, sig)\n",
    "\n",
    "plt.figure(figsize=(12,7))\n",
    "plt.semilogx(w, 20*np.log10(abs(h)), linewidth=3)\n",
    "plt.title(f\"Digital Filter Frequency Response - {filter_type.upper()}\", fontsize=22)\n",
    "plt.xlabel(\"Frequency [Hz]\", fontsize=16)\n",
    "plt.ylabel(\"Amplitude [dB]\", fontsize=16)\n",
    "plt.grid(which='both', axis='both')\n",
    "if filter_type in ('low', 'lowpass'): plt.margins(0, 0.15)\n",
    "if filter_type in ('high', 'highpass'): plt.margins(0.15, 0.1)\n",
    "if filter_type in ('bs', 'bandstop', 'bp', 'bandpass'): \n",
    "    plt.axvline(cutoff[0], color='orange', label=f\"Cutoff frequency start ({cutoff[0]} Hz)\", linewidth=2, linestyle='--')\n",
    "    plt.axvline(cutoff[1], color='orange', label=f\"Cutoff frequency stop ({cutoff[1]} Hz)\", linewidth=2, linestyle='--')\n",
    "if filter_type not in ('bs', 'bandstop', 'bp', 'bandpass'): \n",
    "    plt.semilogx(cutoff, 20*np.log10(0.5*np.sqrt(2)), '*') # plot a star symbol at -3 dB attenuation\n",
    "    plt.axvline(cutoff, color='orange', label=f\"Cutoff frequency ({cutoff} Hz)\", linewidth=2, linestyle='--')\n",
    "plt.legend(loc='best', fontsize=12, shadow=True)\n",
    "\n",
    "if show_impulse_response:\n",
    "    response = signal.lfilter(b, a, impulse)\n",
    "    \n",
    "    plt.figure(figsize=(12,7))\n",
    "    plt.plot(t_impulse, impulse, 'b-', label='Impulse')\n",
    "    plt.plot(t_impulse, response, 'g-', linewidth=2, label='Response')\n",
    "    plt.xlabel('Time [sec]', fontsize=16)\n",
    "    plt.ylabel('Amplitude', fontsize=16)\n",
    "    plt.grid(which='both', axis='both')\n",
    "    plt.legend(loc='best', fontsize=12, shadow=True)\n",
    "\n",
    "plt.show()\n",
    "\n",
    "# plot\n",
    "fig, ax = plt.subplots(2, 1, figsize=(20, 10), sharex=True)\n",
    "ax[0].plot(t, sig)\n",
    "ax[0].set_title('Original Signal', fontsize=20)\n",
    "ax[0].set_xlabel('Time (s)', fontsize=12)\n",
    "ax[0].set_ylabel('Amplitude (V)', fontsize=12)\n",
    "\n",
    "ax[1].plot(t, out_signal)\n",
    "ax[1].set_title('Detrended Signal', fontsize=20)\n",
    "ax[1].set_xlabel('Time (s)', fontsize=12)\n",
    "ax[1].set_ylabel('Amplitude (V)', fontsize=12)\n",
    "plt.tight_layout()"
   ]
  },
  {
   "cell_type": "code",
   "execution_count": null,
   "metadata": {},
   "outputs": [],
   "source": [
    "#******** Variable definitions ********\n",
    "ieeg_contact = 0                                            # single iEEG contact to inspect\n",
    "roi = [9, 13]                                               # ROI in seconds\n",
    "\n",
    "#******** Static definitions ********\n",
    "fs = 512                                                    # sample frequency\n",
    "TT = Data.dataone.shape[1] / fs  # total time in seconds\n",
    "t = np.arange(0, TT, 1/fs)                                  # full time vector\n",
    "t_roi = np.arange(roi[0], roi[1], 1/fs)                     # ROI time vector\n",
    "\n",
    "#******** Fourier transform ********\n",
    "y = fft(Data.dataone[ieeg_contact, :])                      # FFT\n",
    "xf = fftfreq(Data.dataone[ieeg_contact, :].size, 1/fs)      # Frequency vector\n",
    "xf = xf[xf>=0]                                              # Only positive frequencies\n",
    "y = np.abs(y)[:len(xf)]                                     # Magnitude of FFT (one sided)\n",
    "\n",
    "\n",
    "#******** Plotting ********\n",
    "fig, ax = plt.subplots(nrows=4, ncols=1, figsize=(20, 20))\n",
    "\n",
    "# Entire signal\n",
    "ax[0].plot(t, Data.dataone[ieeg_contact, :])\n",
    "ax[0].set_title('Raw iEEG', fontsize=20)\n",
    "ax[0].set_xlabel('Time (s)', fontsize=12)\n",
    "ax[0].set_ylabel('Amplitude (uV)', fontsize=12)\n",
    "ax[0].set_xlim([t[0], t[-1]])\n",
    "\n",
    "# ROI\n",
    "ax[1].plot(t_roi, Data.dataone[ieeg_contact, roi[0]*fs:roi[1]*fs])\n",
    "ax[1].set_title('iEEG ROI', fontsize=20)\n",
    "ax[1].set_xlabel('Time (s)', fontsize=12)\n",
    "ax[1].set_ylabel('Amplitude (uV)', fontsize=12)\n",
    "ax[1].set_xlim([t_roi[0], t_roi[-1]])\n",
    "\n",
    "# Magnitude spectrum - Entire signal\n",
    "ax[2].plot(xf, y, color='orange')\n",
    "ax[2].set_title('Magnitude Spectrum', fontsize=20)\n",
    "ax[2].set_xlabel('Frequency (Hz)', fontsize=12)\n",
    "ax[2].set_ylabel('Magnitude', fontsize=12)\n",
    "ax[2].set_xlim([xf[0], xf[-1]])\n",
    "\n",
    "# Spectrogram\n",
    "pxx, freqs, _t, img = ax[3].specgram(Data.dataone[ieeg_contact, :], Fs=fs, NFFT=512, noverlap=64, cmap='rainbow')\n",
    "ax[3].set_title('Spectrogram', fontsize=20)\n",
    "ax[3].set_xlabel('Time (s)', fontsize=12)\n",
    "ax[3].set_ylabel('Frequency (Hz)', fontsize=12)\n",
    "\n",
    "fig.suptitle(f\"Experiment Phase {experiment_phase_of_interest} - Subject {Data.subject_id}\", fontsize=24, fontweight='bold')\n",
    "plt.tight_layout()"
   ]
  },
  {
   "cell_type": "code",
   "execution_count": null,
   "metadata": {},
   "outputs": [],
   "source": [
    "def digital_filter(order=4, cutoff=500, fs=1000, filter_type='high', apply_filter=False, in_signal=None):\n",
    "    \"\"\"digital_filter Create a digital filter using scipy's butter function.\n",
    "\n",
    "    Create a digital filter using scipy's butter function and compute the\n",
    "    filter frequency response. The filter frequency response is always plotted\n",
    "    as part in ensuring the desired filter design.\n",
    "\n",
    "    Args:\n",
    "        order (int, optional): The order of the filter. Defaults to 4.\n",
    "        cutoff (int, optional): The cutoff frequency of the filter (in Hz). Defaults to 500.\n",
    "        fs (int, optional): The sampling frequency used to sample the signal. Defaults to 1000.\n",
    "        filter_type (str, optional): The type of filter ('low', 'lowpass', 'high', 'highpass'). Defaults to 'high'.\n",
    "        apply_filter (bool, optional): If True then the filter is applied to the signal in_signal. Defaults to False.\n",
    "        in_signal (_type_, optional): If specified and apply_filter is set to True, the filter is applied to the signal \n",
    "                                      and the filtered signal is returned. Defaults to None.\n",
    "\n",
    "    Returns:\n",
    "        b, a (ndarray): Default setting for function is to return the \n",
    "                        filter coefficients.\n",
    "        out_signal (ndarray): If apply_filter is set to True and in_signal \n",
    "                              is given, the function will apply the digital \n",
    "                              filter and return the filtered signal.\n",
    "    \"\"\"\n",
    "    # Create digital filter\n",
    "    b, a = signal.butter(N=order, Wn=cutoff, btype=filter_type, fs=fs, analog=False)\n",
    "    \n",
    "    # Compute digital filter frequency response\n",
    "    w, h = signal.freqz(b, a, fs=fs)\n",
    "    \n",
    "    # Plot a bode plot of filter frequency response\n",
    "    plt.figure(figsize=(12,7))\n",
    "    plt.semilogx(w, 20*np.log10(abs(h)), linewidth=3)\n",
    "    plt.semilogx(cutoff, 20*np.log10(0.5*np.sqrt(2)), '*') # plot a star symbol at -3 dB attenuation\n",
    "    plt.title(\"Digital Filter Frequency Response\", fontsize=22)\n",
    "    plt.xlabel(\"Frequency [Hz]\", fontsize=16)\n",
    "    plt.ylabel(\"Amplitude [dB]\", fontsize=16)\n",
    "    plt.grid(which='both', axis='both')\n",
    "    if filter_type in ('low', 'lowpass'): plt.margins(0, 0.15)\n",
    "    if filter_type in ('high', 'highpass'): plt.margins(0.15, 0.1)\n",
    "    plt.axvline(cutoff, color='orange', label=f\"Cutoff Frequency ({cutoff} Hz)\", linewidth=2, linestyle='--')\n",
    "    plt.legend(loc='best', fontsize=12, shadow=True)\n",
    "    plt.show()\n",
    "    \n",
    "    if apply_filter == True and in_signal is not None:\n",
    "        # Apply filter and return filtered signal\n",
    "        out_signal = signal.lfilter(b, a, in_signal)\n",
    "        return out_signal\n",
    "    else:\n",
    "        # (Defualt) Return the filter coefficients\n",
    "        return b, a"
   ]
  },
  {
   "cell_type": "code",
   "execution_count": null,
   "metadata": {},
   "outputs": [],
   "source": [
    "data_filtered = digital_filter(in_signal=data_mat['data']['ieeg_data2'][0, :],\n",
    "                                order=6,\n",
    "                                cutoff=1,\n",
    "                                filter_type='highpass',\n",
    "                                fs=fs,\n",
    "                                apply_filter=True)"
   ]
  },
  {
   "cell_type": "code",
   "execution_count": null,
   "metadata": {},
   "outputs": [],
   "source": [
    "#******** Plotting ********\n",
    "fig, ax = plt.subplots(2, 1, figsize=(20, 15))\n",
    "ax[0].plot(t_roi, data_mat['data']['ieeg_data2'][ieeg_contact, roi[0]*fs:roi[1]*fs])\n",
    "ax[0].set_title('Subject 07 - Unfiltered', fontsize=20)\n",
    "ax[0].set_xlabel('Time (s)', fontsize=12)\n",
    "ax[0].set_ylabel('Amplitude (uV)', fontsize=12)\n",
    "ax[0].set_xlim([t_roi[0], t_roi[-1]])\n",
    "\n",
    "ax[1].plot(t_roi, data_filtered[roi[0]*fs:roi[1]*fs])\n",
    "ax[1].set_title('Subject 07 - Filtered', fontsize=20)\n",
    "ax[1].set_xlabel('Time (s)', fontsize=12)\n",
    "ax[1].set_ylabel('Amplitude (uV)', fontsize=12)\n",
    "ax[1].set_xlim([t_roi[0], t_roi[-1]])\n",
    "plt.tight_layout()"
   ]
  },
  {
   "cell_type": "markdown",
   "metadata": {},
   "source": [
    "## Power Spectral Analyis"
   ]
  },
  {
   "cell_type": "code",
   "execution_count": null,
   "metadata": {},
   "outputs": [],
   "source": [
    "f, t, Sxx = signal.spectrogram(data_mat['data']['ieeg_data2'][0, :], fs)\n",
    "plt.pcolormesh(t, f, Sxx, shading='gouraud')\n",
    "plt.ylabel('Frequency [Hz]')\n",
    "plt.xlabel('Time [sec]')\n",
    "plt.show()"
   ]
  },
  {
   "cell_type": "code",
   "execution_count": null,
   "metadata": {},
   "outputs": [],
   "source": [
    "f, Pxx_den = signal.periodogram(data_filtered, fs)\n",
    "plt.semilogy(f, Pxx_den)"
   ]
  }
 ],
 "metadata": {
  "kernelspec": {
   "display_name": "sdcmaster",
   "language": "python",
   "name": "python3"
  },
  "language_info": {
   "codemirror_mode": {
    "name": "ipython",
    "version": 3
   },
   "file_extension": ".py",
   "mimetype": "text/x-python",
   "name": "python",
   "nbconvert_exporter": "python",
   "pygments_lexer": "ipython3",
   "version": "3.11.3"
  },
  "orig_nbformat": 4
 },
 "nbformat": 4,
 "nbformat_minor": 2
}
